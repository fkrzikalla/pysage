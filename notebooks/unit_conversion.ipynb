{
 "cells": [
  {
   "cell_type": "code",
   "execution_count": 1,
   "id": "085784ba",
   "metadata": {},
   "outputs": [],
   "source": [
    "import sys,os \n",
    "import numpy as np \n",
    "from typing import Union, Tuple \n"
   ]
  },
  {
   "cell_type": "code",
   "execution_count": null,
   "id": "6c4063f4",
   "metadata": {},
   "outputs": [],
   "source": [
    "sys.path.append( os.path.join(\"D:\\\\\",\"Jupyter\"))\n",
    "\n",
    "from pysage.units.units_conversion import *\n",
    "\n",
    "    "
   ]
  },
  {
   "cell_type": "markdown",
   "id": "9582878c",
   "metadata": {},
   "source": [
    "# New version "
   ]
  },
  {
   "cell_type": "code",
   "execution_count": 2,
   "id": "9d46c31e",
   "metadata": {},
   "outputs": [],
   "source": [
    "sys.path.append( os.path.join(\"D:\\\\\",\"Jupyter\"))\n",
    "\n",
    "#given measurement, get all known symbols: symbols_for_measurement\n",
    "#given the system (english,canonical,metric) get all known symbols: symbols_for_system\n",
    "#given a symbol get the measurement: measurement_for_symbol\n",
    "#units_table: dictionary of all known symbols and their conversion to metric,canonical,english\n",
    "#dimensionless_symbols: list of symbols of dimensionless quantitites \n",
    "from pysage.units.units_conversion import *\n",
    "\n"
   ]
  },
  {
   "cell_type": "markdown",
   "id": "73edbf25",
   "metadata": {},
   "source": [
    "# Examples"
   ]
  },
  {
   "cell_type": "markdown",
   "id": "38a5d451",
   "metadata": {},
   "source": [
    "## Get information about a given unit "
   ]
  },
  {
   "cell_type": "code",
   "execution_count": 3,
   "id": "b91733b1",
   "metadata": {},
   "outputs": [
    {
     "name": "stdout",
     "output_type": "stream",
     "text": [
      "{'symbol': 'kPa', 'name': 'kilopascal', 'measurement': 'pressure', 'metric': {'symbol': 'kPa', 'name': 'kilopascal', 'scale': 1, 'offset': 0}, 'english': {'symbol': 'psi', 'name': 'pound per square inch', 'scale': 0.14503773773020923, 'offset': 0}, 'canonical': {'symbol': 'Pa', 'name': 'pascal', 'scale': 1000, 'offset': 0}}\n"
     ]
    }
   ],
   "source": [
    "print( units_table['kPa'] )\n"
   ]
  },
  {
   "cell_type": "code",
   "execution_count": 4,
   "id": "733dfe62",
   "metadata": {},
   "outputs": [
    {
     "name": "stdout",
     "output_type": "stream",
     "text": [
      "{'symbol': 'us/ft', 'name': 'microsecond per foot', 'measurement': 'time_per_length', 'metric': {'symbol': 's/m', 'name': 'second per meter', 'scale': 3.2808398950131235e-06, 'offset': 0}, 'english': {'symbol': 's/ft', 'name': 'second per foot', 'scale': 9.999999999999997e-07, 'offset': 0}, 'canonical': {'symbol': 's/m', 'name': 'second per meter', 'scale': 3.2808398950131235e-06, 'offset': 0}}\n"
     ]
    }
   ],
   "source": [
    "print( units_table['us/ft'] ) \n"
   ]
  },
  {
   "cell_type": "code",
   "execution_count": 5,
   "id": "7d42feea",
   "metadata": {},
   "outputs": [
    {
     "name": "stdout",
     "output_type": "stream",
     "text": [
      "1D =  (9.869232999999999e-13, 'm2')\n",
      "{'symbol': 'D', 'name': 'darcy', 'measurement': 'area', 'metric': {'symbol': 'm2', 'name': 'square meter', 'scale': 9.869232999999999e-13, 'offset': 0}, 'english': {'symbol': 'ft2', 'name': 'square foot', 'scale': 1.0623153989363533e-11, 'offset': 0}, 'canonical': {'symbol': 'm2', 'name': 'square meter', 'scale': 9.869232999999999e-13, 'offset': 0}}\n"
     ]
    }
   ],
   "source": [
    "print('1D = ', convert_to_canonical( 1 , 'D') )\n",
    "print( units_table['D'])"
   ]
  },
  {
   "cell_type": "markdown",
   "id": "8f6711bf",
   "metadata": {},
   "source": [
    "## Convert numpy arrays, lists or scalar values "
   ]
  },
  {
   "cell_type": "code",
   "execution_count": null,
   "id": "1db82262",
   "metadata": {},
   "outputs": [],
   "source": []
  },
  {
   "cell_type": "code",
   "execution_count": 6,
   "id": "5eb9eba4",
   "metadata": {},
   "outputs": [
    {
     "name": "stdout",
     "output_type": "stream",
     "text": [
      "\n",
      "example 1: scalar values unit-symbol to unit-symbol\n",
      "1 m equals 1000.0  mm\n"
     ]
    }
   ],
   "source": [
    "print('\\nexample 1: scalar values unit-symbol to unit-symbol') \n",
    "symbol1 = 'm'\n",
    "symbol2 = 'mm'\n",
    "milimeters= convert( 1,symbol1, symbol2)\n",
    "print( '1 m equals',milimeters, ' mm' )"
   ]
  },
  {
   "cell_type": "code",
   "execution_count": 7,
   "id": "dafbfe5a",
   "metadata": {},
   "outputs": [
    {
     "name": "stdout",
     "output_type": "stream",
     "text": [
      "\n",
      "example 2.1: list of values\n",
      "[1, 10, 100, nan] cm = [0.01 0.1  1.    nan]m\n",
      "return type =  <class 'numpy.ndarray'>\n",
      "\n",
      "example 2.2: numpy array\n",
      "[1, 10, 100, nan] cm = [0.01 0.1  1.    nan]m\n",
      "return type =  <class 'numpy.ndarray'>\n"
     ]
    }
   ],
   "source": [
    "#convert a list of values, including np.nan or a numpy array \n",
    "print('\\nexample 2.1: list of values') \n",
    "values = [1,10,100, np.nan] \n",
    "units  = 'cm'\n",
    "\n",
    "converted, to_symbol = convert_to_canonical( [1,10,100, np.nan] , units)\n",
    "print ( '{} {} = {}{}'.format(values, units, converted, to_symbol))\n",
    "print('return type = ', type(converted)  ) \n",
    "\n",
    " \n",
    "print('\\nexample 2.2: numpy array') \n",
    "nparray = np.array( values )\n",
    "converted, to_symbol = convert_to_canonical( nparray, units)\n",
    "print ( '{} {} = {}{}'.format(values, units, converted, to_symbol))\n",
    "print('return type = ', type(converted)  ) \n",
    "\n",
    "\n",
    "    "
   ]
  },
  {
   "cell_type": "code",
   "execution_count": 8,
   "id": "602e1926",
   "metadata": {},
   "outputs": [
    {
     "name": "stdout",
     "output_type": "stream",
     "text": [
      "[2100. 2200. 2100. 1900. 2360.] kg/m3\n",
      "\n",
      "[736.06471467 771.11541537 736.06471467 665.96331327 827.19653648] lbm/bbl\n"
     ]
    }
   ],
   "source": [
    "\n",
    "densiy_log = np.array( [2.1,2.2,2.1,1.9,2.36] ) \n",
    "\n",
    "#to metric \n",
    "metric_values, metric_symbol = convert_to_system('metric', densiy_log, 'g/cm3')\n",
    "print(metric_values, metric_symbol) \n",
    "\n",
    "print()\n",
    "\n",
    "#to english \n",
    "english_values, english_symbol = convert_to_system('english', densiy_log, 'g/cm3')\n",
    "print(english_values, english_symbol)"
   ]
  },
  {
   "cell_type": "code",
   "execution_count": null,
   "id": "c8787eea",
   "metadata": {},
   "outputs": [],
   "source": []
  },
  {
   "cell_type": "code",
   "execution_count": 9,
   "id": "6f76d8cb",
   "metadata": {},
   "outputs": [
    {
     "name": "stdout",
     "output_type": "stream",
     "text": [
      "\n",
      "example 4\n",
      "1 inch squared is  0.0006451600000000001 m2\n",
      "\n",
      "example 4\n",
      "0.0006451600000000001 m2  converted to  in2  is  1.0\n"
     ]
    }
   ],
   "source": [
    "    \n",
    "print('\\nexample 4') \n",
    "symbol1 = 'in2'\n",
    "converted,canonical_symbol =  convert_to_canonical( 1, symbol1)\n",
    "print('1 inch squared is ', converted, canonical_symbol)\n",
    "\n",
    "print('\\nexample 4') \n",
    "back_to_in2 = convert(converted,canonical_symbol, symbol1)\n",
    "print(converted,canonical_symbol,' converted to ', symbol1, ' is ',back_to_in2)\n",
    "\n",
    "\n",
    "\n"
   ]
  },
  {
   "cell_type": "code",
   "execution_count": null,
   "id": "500b6263",
   "metadata": {},
   "outputs": [],
   "source": []
  },
  {
   "cell_type": "markdown",
   "id": "95b2a93f",
   "metadata": {},
   "source": [
    "## Temperatures "
   ]
  },
  {
   "cell_type": "code",
   "execution_count": 10,
   "id": "d7307a7e",
   "metadata": {},
   "outputs": [
    {
     "name": "stdout",
     "output_type": "stream",
     "text": [
      "\n",
      "example 5: convert temperatures\n",
      "25.0 degrees celcius equals 76.99999999999989 degrees Farenheit\n",
      "77 degrees Farenheit equals 25.000000000000057 degrees Celcius\n",
      "25 degrees Celcius equals (298.15, 'K'), where K stands for Kelvin degrees\n"
     ]
    }
   ],
   "source": [
    "\n",
    "print('\\nexample 5: convert temperatures')\n",
    "celcius = 25.0 \n",
    "farenheit = convert(celcius, 'degC','degF')\n",
    "print('{} degrees celcius equals {} degrees Farenheit'.format(celcius,farenheit))\n",
    "\n",
    "celcius = convert(77, 'degF', 'degC')\n",
    "print('{} degrees Farenheit equals {} degrees Celcius'.format(77,celcius))\n",
    "\n",
    "kelvin = convert_to_canonical(25, 'degC')\n",
    "print('{} degrees Celcius equals {}, where K stands for Kelvin degrees'.format(25,kelvin))\n"
   ]
  },
  {
   "cell_type": "markdown",
   "id": "29b42810",
   "metadata": {},
   "source": [
    "## Pressure gradients "
   ]
  },
  {
   "cell_type": "code",
   "execution_count": 11,
   "id": "7a6b780b",
   "metadata": {},
   "outputs": [
    {
     "name": "stdout",
     "output_type": "stream",
     "text": [
      "\n",
      "example 6: convert pressure gradients\n",
      "0.44 psi/ft equals 9953.061709298157 Pa/m\n",
      "0.44 psi/ft -> kPa/m: equals 9.953061709298158\n"
     ]
    }
   ],
   "source": [
    "print('\\nexample 6: convert pressure gradients')\n",
    "\n",
    "converted = convert_to_canonical(0.44, 'psi/ft')\n",
    "print('0.44 psi/ft equals', converted[0], converted[1])\n",
    "print('0.44 psi/ft -> kPa/m: equals', convert(0.44, 'psi/ft', 'kPa/m')) \n"
   ]
  },
  {
   "cell_type": "markdown",
   "id": "1a1b090c",
   "metadata": {},
   "source": [
    "## Other units  "
   ]
  },
  {
   "cell_type": "code",
   "execution_count": 12,
   "id": "072ea09b",
   "metadata": {},
   "outputs": [
    {
     "name": "stdout",
     "output_type": "stream",
     "text": [
      "\n",
      "example 7: weird units\n",
      "bar per reservoir cubic meter per day squared ( pressure_per_flowrate_squared )\n",
      "1e-14 bar/(rm3/d)2 converted to kg/m7 in the canonical system equals 7.46496 kilogram per meter to the seventh\n"
     ]
    }
   ],
   "source": [
    "print('\\nexample 7: weird units')\n",
    "weird = 1.0e-14\n",
    "init_symbol ='bar/(rm3/d)2'\n",
    "print_conversions( weird, init_symbol)\n"
   ]
  },
  {
   "cell_type": "markdown",
   "id": "21e2fa82",
   "metadata": {},
   "source": [
    "## Get the units for a given known measurement  "
   ]
  },
  {
   "cell_type": "code",
   "execution_count": 13,
   "id": "43b693a2",
   "metadata": {},
   "outputs": [
    {
     "data": {
      "text/plain": [
       "{'metric': 'm/s', 'canonical': 'm/s', 'english': 'ft/s'}"
      ]
     },
     "execution_count": 13,
     "metadata": {},
     "output_type": "execute_result"
    }
   ],
   "source": [
    "symbols_for_measurement['velocity'] "
   ]
  },
  {
   "cell_type": "code",
   "execution_count": 14,
   "id": "cc45f316",
   "metadata": {},
   "outputs": [
    {
     "data": {
      "text/plain": [
       "'ft/s'"
      ]
     },
     "execution_count": 14,
     "metadata": {},
     "output_type": "execute_result"
    }
   ],
   "source": [
    "symbols_for_measurement['velocity']['english']"
   ]
  },
  {
   "cell_type": "code",
   "execution_count": 15,
   "id": "56db3a09",
   "metadata": {},
   "outputs": [
    {
     "data": {
      "text/plain": [
       "{'metric': 'm4', 'canonical': 'm4', 'english': 'm4'}"
      ]
     },
     "execution_count": 15,
     "metadata": {},
     "output_type": "execute_result"
    }
   ],
   "source": [
    "symbols_for_measurement['area_squared']"
   ]
  },
  {
   "cell_type": "code",
   "execution_count": null,
   "id": "85052d10",
   "metadata": {},
   "outputs": [],
   "source": [
    "## All knwon unit symbols for a given measurement "
   ]
  },
  {
   "cell_type": "code",
   "execution_count": 36,
   "id": "be961e1e",
   "metadata": {},
   "outputs": [
    {
     "name": "stdout",
     "output_type": "stream",
     "text": [
      "['aJ', 'Btu', 'cal', 'EJ', 'eV', 'ft.lbf', 'GeV', 'GJ', 'in.lbf', 'J', 'kcal', 'keV', 'kgf.m', 'kJ', 'km.daN', 'kN.m', 'kW.h', 'MeV', 'mJ', 'MJ'] \n",
      "\n",
      "{'metric': 'keV', 'canonical': 'J', 'english': 'keV'}\n",
      "The name of J is  joule\n",
      "The name of ft.lbf is  foot-pound force\n"
     ]
    }
   ],
   "source": [
    "\n",
    "energy_units= [ key for key,value in units_table.items() if 'energy' in value['measurement']]\n",
    "\n",
    "#these may include field units. \n",
    "print( energy_units[0:20], '\\n' )\n",
    "\n",
    "print( symbols_for_measurement['energy'])\n",
    "\n",
    "name = units_table['J']['name']\n",
    "print( 'The name of J is ', name  )\n",
    "\n",
    "name = units_table['ft.lbf']['name']\n",
    "print( 'The name of ft.lbf is ', name  )\n",
    "\n"
   ]
  },
  {
   "cell_type": "code",
   "execution_count": null,
   "id": "51dc8f9b",
   "metadata": {},
   "outputs": [],
   "source": [
    " "
   ]
  },
  {
   "cell_type": "markdown",
   "id": "79f4e764",
   "metadata": {},
   "source": [
    "## Symbols of known measurements for the three main systems\n"
   ]
  },
  {
   "cell_type": "code",
   "execution_count": 16,
   "id": "cc8ec363",
   "metadata": {},
   "outputs": [
    {
     "data": {
      "text/plain": [
       "['kPa/m',\n",
       " 's',\n",
       " 's/kg',\n",
       " 'mA',\n",
       " 'J/mol',\n",
       " '1000 m4/d',\n",
       " 'm2/(K4.s2)',\n",
       " 'm/kPa',\n",
       " 'kg.m',\n",
       " 'mol/s']"
      ]
     },
     "execution_count": 16,
     "metadata": {},
     "output_type": "execute_result"
    }
   ],
   "source": [
    "symbols_for_system['metric'][10:20]"
   ]
  },
  {
   "cell_type": "code",
   "execution_count": 17,
   "id": "5c62f832",
   "metadata": {},
   "outputs": [
    {
     "data": {
      "text/plain": [
       "['lx',\n",
       " 'ft',\n",
       " 's',\n",
       " 'lbm/ft2',\n",
       " 'degF',\n",
       " 's/kg',\n",
       " 'mA',\n",
       " 'lbm/bbl',\n",
       " 'J/mol',\n",
       " 'lbm/(ft.s)']"
      ]
     },
     "execution_count": 17,
     "metadata": {},
     "output_type": "execute_result"
    }
   ],
   "source": [
    "symbols_for_system['english'][10:20]"
   ]
  },
  {
   "cell_type": "markdown",
   "id": "efdd6f8d",
   "metadata": {},
   "source": [
    "## Dimensionless symbol \n"
   ]
  },
  {
   "cell_type": "code",
   "execution_count": 19,
   "id": "20c936a1",
   "metadata": {},
   "outputs": [
    {
     "data": {
      "text/plain": [
       "['_',\n",
       " 'b/e',\n",
       " 'bbl/(acre.ft)',\n",
       " 'bbl/bbl',\n",
       " 'bbl/ft3',\n",
       " 'bbl/SCF',\n",
       " 'bbl/STB',\n",
       " 'cm3/cm3',\n",
       " 'ft/m',\n",
       " 'ft3/bbl']"
      ]
     },
     "execution_count": 19,
     "metadata": {},
     "output_type": "execute_result"
    }
   ],
   "source": [
    "dimensionless_symbols[0:10]"
   ]
  },
  {
   "cell_type": "markdown",
   "id": "d7b877e3",
   "metadata": {},
   "source": [
    "# Example: \n",
    "#### Read slowness in a log with arbitrary units and compute the velocity in the canonical system"
   ]
  },
  {
   "cell_type": "code",
   "execution_count": 28,
   "id": "502ff26e",
   "metadata": {},
   "outputs": [
    {
     "name": "stdout",
     "output_type": "stream",
     "text": [
      "The velocity is\n",
      "[2344.61538462 1385.45454545] m/s\n"
     ]
    }
   ],
   "source": [
    "#Example: \n",
    "## Read slowness in an arbitrary symbol and compute the velocity in the canonical system\n",
    "  \n",
    "slowness = np.array( [130.,220.0 ] ) #array read from file or delfi\n",
    "symbol   =  'us/ft'                  #unit symbol read \n",
    "\n",
    "#convert to canonical \n",
    "slowness_canonical, new_symbol = convert_to_canonical( slowness, symbol)\n",
    "slowness_canonical, new_symbol\n",
    "\n",
    "#get the velocity \n",
    "velocity = 1.0/slowness_canonical\n",
    "\n",
    "#get the units of the velocity in the canonical \n",
    "velocity_units = symbols_for_measurement['velocity']['canonical']\n",
    "\n",
    "print('The velocity is')\n",
    "print( velocity, velocity_units )\n"
   ]
  },
  {
   "cell_type": "code",
   "execution_count": null,
   "id": "27b52e80",
   "metadata": {},
   "outputs": [],
   "source": []
  },
  {
   "cell_type": "code",
   "execution_count": null,
   "id": "99400ee3",
   "metadata": {},
   "outputs": [],
   "source": []
  },
  {
   "cell_type": "code",
   "execution_count": null,
   "id": "fa2688f7",
   "metadata": {},
   "outputs": [],
   "source": []
  },
  {
   "cell_type": "code",
   "execution_count": null,
   "id": "62cdec4c",
   "metadata": {},
   "outputs": [],
   "source": []
  },
  {
   "cell_type": "code",
   "execution_count": null,
   "id": "53faace4",
   "metadata": {},
   "outputs": [],
   "source": []
  },
  {
   "cell_type": "code",
   "execution_count": null,
   "id": "5e2ae9fb",
   "metadata": {},
   "outputs": [],
   "source": []
  },
  {
   "cell_type": "code",
   "execution_count": null,
   "id": "331a06ac",
   "metadata": {},
   "outputs": [],
   "source": []
  },
  {
   "cell_type": "code",
   "execution_count": null,
   "id": "4c0c26a3",
   "metadata": {},
   "outputs": [],
   "source": []
  },
  {
   "cell_type": "code",
   "execution_count": null,
   "id": "5c93848f",
   "metadata": {},
   "outputs": [],
   "source": []
  },
  {
   "cell_type": "code",
   "execution_count": null,
   "id": "2418c9da",
   "metadata": {},
   "outputs": [],
   "source": []
  }
 ],
 "metadata": {
  "kernelspec": {
   "display_name": "Python 3 (ipykernel)",
   "language": "python",
   "name": "python3"
  },
  "language_info": {
   "codemirror_mode": {
    "name": "ipython",
    "version": 3
   },
   "file_extension": ".py",
   "mimetype": "text/x-python",
   "name": "python",
   "nbconvert_exporter": "python",
   "pygments_lexer": "ipython3",
   "version": "3.9.7"
  }
 },
 "nbformat": 4,
 "nbformat_minor": 5
}
